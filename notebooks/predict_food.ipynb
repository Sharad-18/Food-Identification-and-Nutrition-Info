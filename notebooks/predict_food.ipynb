{
 "cells": [
  {
   "cell_type": "code",
   "execution_count": 2,
   "metadata": {},
   "outputs": [
    {
     "name": "stdout",
     "output_type": "stream",
     "text": [
      "Using device: cuda\n",
      "Granny Smith\n"
     ]
    }
   ],
   "source": [
    "import torch\n",
    "from PIL import Image\n",
    "from transformers import ViTFeatureExtractor, ViTForImageClassification\n",
    "import warnings\n",
    "warnings.filterwarnings('ignore')\n",
    "\n",
    "# Check if CUDA is available and set the device to GPU if available\n",
    "device = torch.device(\"cuda\" if torch.cuda.is_available() else \"cpu\")\n",
    "print(f\"Using device: {device}\")\n",
    "\n",
    "# Load the pre-trained Vision Transformer model and feature extractor\n",
    "model_name = \"google/vit-base-patch16-224\"\n",
    "feature_extractor = ViTFeatureExtractor.from_pretrained(model_name)\n",
    "model = ViTForImageClassification.from_pretrained(model_name)\n",
    "\n",
    "# Move the model to the selected device (GPU or CPU)\n",
    "model = model.to(device)\n",
    "\n",
    "# Path to the image\n",
    "image_path = \"../data/01.jpeg\"\n",
    "\n",
    "# Load and preprocess the image\n",
    "image = Image.open(image_path)\n",
    "\n",
    "# Extract features from the image and move the input to the GPU\n",
    "inputs = feature_extractor(images=image, return_tensors=\"pt\").to(device)\n",
    "\n",
    "# Perform inference on the GPU\n",
    "outputs = model(**inputs)\n",
    "\n",
    "# Move the logits back to the CPU to process the output\n",
    "logits = outputs.logits.cpu()\n",
    "\n",
    "# Get the predicted class index and label\n",
    "predicted_class_idx = logits.argmax(-1).item()\n",
    "predicted_label = model.config.id2label[predicted_class_idx]\n",
    "\n",
    "# Extract the name of the food item\n",
    "food_name = predicted_label.split(',')[0]\n",
    "\n",
    "# Print the food name\n",
    "print(food_name)\n"
   ]
  },
  {
   "cell_type": "code",
   "execution_count": 5,
   "metadata": {},
   "outputs": [
    {
     "name": "stdout",
     "output_type": "stream",
     "text": [
      "Using device: cuda\n",
      "Granny Smith\n"
     ]
    }
   ],
   "source": [
    "import torch\n",
    "from PIL import Image\n",
    "from transformers import ViTFeatureExtractor, ViTForImageClassification\n",
    "import warnings\n",
    "warnings.filterwarnings('ignore')\n",
    "\n",
    "# Check if CUDA is available and set the device to GPU if available\n",
    "device = torch.device(\"cuda\" if torch.cuda.is_available() else \"cpu\")\n",
    "print(f\"Using device: {device}\")\n",
    "\n",
    "# Load model and feature extractor only once\n",
    "def load_model_and_extractor(model_name=\"google/vit-base-patch16-224\"):\n",
    "    # Load the pre-trained Vision Transformer model and feature extractor\n",
    "    feature_extractor = ViTFeatureExtractor.from_pretrained(model_name)\n",
    "    model = ViTForImageClassification.from_pretrained(model_name)\n",
    "    model = model.to(device)  # Move the model to GPU\n",
    "    return model, feature_extractor\n",
    "\n",
    "# Prediction function\n",
    "def predict_image(image_path, model, feature_extractor):\n",
    "    # Load and preprocess the image\n",
    "    image = Image.open(image_path)\n",
    "\n",
    "    # Extract features and move the input to the GPU\n",
    "    inputs = feature_extractor(images=image, return_tensors=\"pt\").to(device)\n",
    "\n",
    "    # Perform inference on the GPU\n",
    "    with torch.no_grad():  # Disable gradient computation for inference\n",
    "        outputs = model(**inputs)\n",
    "\n",
    "    # Move the logits back to the CPU for processing\n",
    "    logits = outputs.logits.cpu()\n",
    "\n",
    "    # Get the predicted class index and label\n",
    "    predicted_class_idx = logits.argmax(-1).item()\n",
    "    predicted_label = model.config.id2label[predicted_class_idx]\n",
    "\n",
    "    # Extract the name of the food item (or general label)\n",
    "    food_name = predicted_label.split(',')[0]\n",
    "    \n",
    "    return food_name\n",
    "\n",
    "# Load the model and feature extractor once\n",
    "model, feature_extractor = load_model_and_extractor()\n",
    "\n",
    "# Now, you can call the predict_image function multiple times without reloading the model\n",
    "image_path = \"../data/01.jpeg\"\n",
    "food_name = predict_image(image_path, model, feature_extractor)\n",
    "\n",
    "# Print the food name\n",
    "print(food_name)\n"
   ]
  },
  {
   "cell_type": "code",
   "execution_count": null,
   "metadata": {},
   "outputs": [],
   "source": []
  },
  {
   "cell_type": "code",
   "execution_count": null,
   "metadata": {},
   "outputs": [],
   "source": []
  }
 ],
 "metadata": {
  "kernelspec": {
   "display_name": "Python 3",
   "language": "python",
   "name": "python3"
  },
  "language_info": {
   "codemirror_mode": {
    "name": "ipython",
    "version": 3
   },
   "file_extension": ".py",
   "mimetype": "text/x-python",
   "name": "python",
   "nbconvert_exporter": "python",
   "pygments_lexer": "ipython3",
   "version": "3.8.19"
  }
 },
 "nbformat": 4,
 "nbformat_minor": 2
}
